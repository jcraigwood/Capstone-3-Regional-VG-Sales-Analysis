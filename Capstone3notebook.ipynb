{
  "nbformat": 4,
  "nbformat_minor": 0,
  "metadata": {
    "colab": {
      "name": "Capstone3notebook.ipynb",
      "provenance": [],
      "collapsed_sections": [],
      "include_colab_link": true
    },
    "kernelspec": {
      "name": "python3",
      "display_name": "Python 3"
    }
  },
  "cells": [
    {
      "cell_type": "markdown",
      "metadata": {
        "id": "view-in-github",
        "colab_type": "text"
      },
      "source": [
        "<a href=\"https://colab.research.google.com/github/jcraigwood/Capstone-3-Regional-VG-Sales-Analysis/blob/main/Capstone3notebook.ipynb\" target=\"_parent\"><img src=\"https://colab.research.google.com/assets/colab-badge.svg\" alt=\"Open In Colab\"/></a>"
      ]
    },
    {
      "cell_type": "markdown",
      "metadata": {
        "id": "aRil8Jw_Bz4T"
      },
      "source": [
        ""
      ]
    },
    {
      "cell_type": "code",
      "metadata": {
        "colab": {
          "base_uri": "https://localhost:8080/"
        },
        "id": "P_8nDWRCckaa",
        "outputId": "205c0039-e316-489a-fe24-604044c67a24"
      },
      "source": [
        "#Connecting Google Drive\n",
        "from google.colab import drive\n",
        "drive.mount('/content/gdrive')"
      ],
      "execution_count": 1,
      "outputs": [
        {
          "output_type": "stream",
          "text": [
            "Mounted at /content/gdrive\n"
          ],
          "name": "stdout"
        }
      ]
    },
    {
      "cell_type": "markdown",
      "metadata": {
        "id": "2jlc4dhCDUPc"
      },
      "source": [
        "In this notebook I'll be looking at if the north american gaming market has a positive correlation other major foreign gaming markets.\n",
        "\n",
        "I will also identify top performing publishers for each individual market for future contract recommendations.\n",
        "\n",
        "Here is a link to my original data https://www.kaggle.com/gregorut/videogamesales\n",
        "\n"
      ]
    },
    {
      "cell_type": "code",
      "metadata": {
        "colab": {
          "base_uri": "https://localhost:8080/",
          "height": 347
        },
        "id": "0nmED11Ozod2",
        "outputId": "9adf7654-f99e-4320-ec46-bb72fdc627bc"
      },
      "source": [
        "# Importing\n",
        "\n",
        "import numpy as np\n",
        "import pandas as pd\n",
        "import seaborn as sns \n",
        "sns.set()\n",
        "from scipy import stats\n",
        "import matplotlib.pyplot as plt\n",
        "df = pd.read_csv('/content/gdrive/My Drive/Thinkful/vgsales.csv')\n",
        "df.head(10)\n"
      ],
      "execution_count": 2,
      "outputs": [
        {
          "output_type": "execute_result",
          "data": {
            "text/html": [
              "<div>\n",
              "<style scoped>\n",
              "    .dataframe tbody tr th:only-of-type {\n",
              "        vertical-align: middle;\n",
              "    }\n",
              "\n",
              "    .dataframe tbody tr th {\n",
              "        vertical-align: top;\n",
              "    }\n",
              "\n",
              "    .dataframe thead th {\n",
              "        text-align: right;\n",
              "    }\n",
              "</style>\n",
              "<table border=\"1\" class=\"dataframe\">\n",
              "  <thead>\n",
              "    <tr style=\"text-align: right;\">\n",
              "      <th></th>\n",
              "      <th>Rank</th>\n",
              "      <th>Name</th>\n",
              "      <th>Platform</th>\n",
              "      <th>Year</th>\n",
              "      <th>Genre</th>\n",
              "      <th>Publisher</th>\n",
              "      <th>NA_Sales</th>\n",
              "      <th>EU_Sales</th>\n",
              "      <th>JP_Sales</th>\n",
              "      <th>Other_Sales</th>\n",
              "      <th>Global_Sales</th>\n",
              "    </tr>\n",
              "  </thead>\n",
              "  <tbody>\n",
              "    <tr>\n",
              "      <th>0</th>\n",
              "      <td>5959</td>\n",
              "      <td>Imagine: Makeup Artist</td>\n",
              "      <td>DS</td>\n",
              "      <td>2020.0</td>\n",
              "      <td>Simulation</td>\n",
              "      <td>Ubisoft</td>\n",
              "      <td>0.27</td>\n",
              "      <td>0.00</td>\n",
              "      <td>0.00</td>\n",
              "      <td>0.02</td>\n",
              "      <td>0.29</td>\n",
              "    </tr>\n",
              "    <tr>\n",
              "      <th>1</th>\n",
              "      <td>14393</td>\n",
              "      <td>Phantasy Star Online 2 Episode 4: Deluxe Package</td>\n",
              "      <td>PS4</td>\n",
              "      <td>2017.0</td>\n",
              "      <td>Role-Playing</td>\n",
              "      <td>Sega</td>\n",
              "      <td>0.00</td>\n",
              "      <td>0.00</td>\n",
              "      <td>0.03</td>\n",
              "      <td>0.00</td>\n",
              "      <td>0.03</td>\n",
              "    </tr>\n",
              "    <tr>\n",
              "      <th>2</th>\n",
              "      <td>16244</td>\n",
              "      <td>Phantasy Star Online 2 Episode 4: Deluxe Package</td>\n",
              "      <td>PSV</td>\n",
              "      <td>2017.0</td>\n",
              "      <td>Role-Playing</td>\n",
              "      <td>Sega</td>\n",
              "      <td>0.00</td>\n",
              "      <td>0.00</td>\n",
              "      <td>0.01</td>\n",
              "      <td>0.00</td>\n",
              "      <td>0.01</td>\n",
              "    </tr>\n",
              "    <tr>\n",
              "      <th>3</th>\n",
              "      <td>16441</td>\n",
              "      <td>Brothers Conflict: Precious Baby</td>\n",
              "      <td>PSV</td>\n",
              "      <td>2017.0</td>\n",
              "      <td>Action</td>\n",
              "      <td>Idea Factory</td>\n",
              "      <td>0.00</td>\n",
              "      <td>0.00</td>\n",
              "      <td>0.01</td>\n",
              "      <td>0.00</td>\n",
              "      <td>0.01</td>\n",
              "    </tr>\n",
              "    <tr>\n",
              "      <th>4</th>\n",
              "      <td>222</td>\n",
              "      <td>FIFA 17</td>\n",
              "      <td>PS4</td>\n",
              "      <td>2016.0</td>\n",
              "      <td>Sports</td>\n",
              "      <td>Electronic Arts</td>\n",
              "      <td>0.28</td>\n",
              "      <td>3.75</td>\n",
              "      <td>0.06</td>\n",
              "      <td>0.69</td>\n",
              "      <td>4.77</td>\n",
              "    </tr>\n",
              "    <tr>\n",
              "      <th>5</th>\n",
              "      <td>272</td>\n",
              "      <td>Uncharted 4: A Thief's End</td>\n",
              "      <td>PS4</td>\n",
              "      <td>2016.0</td>\n",
              "      <td>Shooter</td>\n",
              "      <td>Sony Computer Entertainment</td>\n",
              "      <td>1.30</td>\n",
              "      <td>2.07</td>\n",
              "      <td>0.18</td>\n",
              "      <td>0.65</td>\n",
              "      <td>4.20</td>\n",
              "    </tr>\n",
              "    <tr>\n",
              "      <th>6</th>\n",
              "      <td>352</td>\n",
              "      <td>Tom Clancy's The Division</td>\n",
              "      <td>PS4</td>\n",
              "      <td>2016.0</td>\n",
              "      <td>Shooter</td>\n",
              "      <td>Ubisoft</td>\n",
              "      <td>1.28</td>\n",
              "      <td>1.61</td>\n",
              "      <td>0.15</td>\n",
              "      <td>0.57</td>\n",
              "      <td>3.61</td>\n",
              "    </tr>\n",
              "    <tr>\n",
              "      <th>7</th>\n",
              "      <td>772</td>\n",
              "      <td>Far Cry: Primal</td>\n",
              "      <td>PS4</td>\n",
              "      <td>2016.0</td>\n",
              "      <td>Action</td>\n",
              "      <td>Ubisoft</td>\n",
              "      <td>0.59</td>\n",
              "      <td>1.16</td>\n",
              "      <td>0.06</td>\n",
              "      <td>0.33</td>\n",
              "      <td>2.13</td>\n",
              "    </tr>\n",
              "    <tr>\n",
              "      <th>8</th>\n",
              "      <td>847</td>\n",
              "      <td>Tom Clancy's The Division</td>\n",
              "      <td>XOne</td>\n",
              "      <td>2016.0</td>\n",
              "      <td>Shooter</td>\n",
              "      <td>Ubisoft</td>\n",
              "      <td>1.20</td>\n",
              "      <td>0.62</td>\n",
              "      <td>0.00</td>\n",
              "      <td>0.18</td>\n",
              "      <td>2.01</td>\n",
              "    </tr>\n",
              "    <tr>\n",
              "      <th>9</th>\n",
              "      <td>1028</td>\n",
              "      <td>Overwatch</td>\n",
              "      <td>PS4</td>\n",
              "      <td>2016.0</td>\n",
              "      <td>Shooter</td>\n",
              "      <td>Activision</td>\n",
              "      <td>0.64</td>\n",
              "      <td>0.68</td>\n",
              "      <td>0.14</td>\n",
              "      <td>0.26</td>\n",
              "      <td>1.73</td>\n",
              "    </tr>\n",
              "  </tbody>\n",
              "</table>\n",
              "</div>"
            ],
            "text/plain": [
              "    Rank  ... Global_Sales\n",
              "0   5959  ...         0.29\n",
              "1  14393  ...         0.03\n",
              "2  16244  ...         0.01\n",
              "3  16441  ...         0.01\n",
              "4    222  ...         4.77\n",
              "5    272  ...         4.20\n",
              "6    352  ...         3.61\n",
              "7    772  ...         2.13\n",
              "8    847  ...         2.01\n",
              "9   1028  ...         1.73\n",
              "\n",
              "[10 rows x 11 columns]"
            ]
          },
          "metadata": {
            "tags": []
          },
          "execution_count": 2
        }
      ]
    },
    {
      "cell_type": "code",
      "metadata": {
        "colab": {
          "base_uri": "https://localhost:8080/"
        },
        "id": "2PXdYWne4wbY",
        "outputId": "d88c802a-d3ca-4bf8-bcaf-083d43d7081e"
      },
      "source": [
        "#shape - 16598 rows, 11 columns\n",
        "df.shape"
      ],
      "execution_count": null,
      "outputs": [
        {
          "output_type": "execute_result",
          "data": {
            "text/plain": [
              "(16598, 11)"
            ]
          },
          "metadata": {
            "tags": []
          },
          "execution_count": 4
        }
      ]
    },
    {
      "cell_type": "code",
      "metadata": {
        "colab": {
          "base_uri": "https://localhost:8080/"
        },
        "id": "SBZh0vVJ4_bZ",
        "outputId": "590d8e77-5b87-4427-ff76-044c8ce4deb3"
      },
      "source": [
        "df.columns"
      ],
      "execution_count": null,
      "outputs": [
        {
          "output_type": "execute_result",
          "data": {
            "text/plain": [
              "Index(['Rank', 'Name', 'Platform', 'Year', 'Genre', 'Publisher', 'NA_Sales',\n",
              "       'EU_Sales', 'JP_Sales', 'Other_Sales', 'Global_Sales'],\n",
              "      dtype='object')"
            ]
          },
          "metadata": {
            "tags": []
          },
          "execution_count": 5
        }
      ]
    },
    {
      "cell_type": "code",
      "metadata": {
        "id": "rIox848o16iC"
      },
      "source": [
        "#Fields include:\n",
        "#Rank - Ranking of overall sales\n",
        "#Name - The games name\n",
        "#Platform - Platform of the games release (i.e. PC,PS4, etc.)\n",
        "#Year - Year of the game's release\n",
        "#Genre - Genre of the game\n",
        "#Publisher - Publisher of the game\n",
        "#NA_Sales - Sales in North America (in millions)\n",
        "#EU_Sales - Sales in Europe (in millions)\n",
        "#JP_Sales - Sales in Japan (in millions)\n",
        "#Other_Sales - Sales in the rest of the world (in millions)\n",
        "#Global_Sales - Total worldwide sales."
      ],
      "execution_count": null,
      "outputs": []
    },
    {
      "cell_type": "code",
      "metadata": {
        "colab": {
          "base_uri": "https://localhost:8080/"
        },
        "id": "ksoMSFSy5Nyy",
        "outputId": "8b0a81c6-745c-425f-d49e-ace1de2f5b62"
      },
      "source": [
        "#General info\n",
        "df.info()"
      ],
      "execution_count": null,
      "outputs": [
        {
          "output_type": "stream",
          "text": [
            "<class 'pandas.core.frame.DataFrame'>\n",
            "RangeIndex: 16598 entries, 0 to 16597\n",
            "Data columns (total 11 columns):\n",
            " #   Column        Non-Null Count  Dtype  \n",
            "---  ------        --------------  -----  \n",
            " 0   Rank          16598 non-null  int64  \n",
            " 1   Name          16598 non-null  object \n",
            " 2   Platform      16598 non-null  object \n",
            " 3   Year          16327 non-null  float64\n",
            " 4   Genre         16598 non-null  object \n",
            " 5   Publisher     16540 non-null  object \n",
            " 6   NA_Sales      16598 non-null  float64\n",
            " 7   EU_Sales      16598 non-null  float64\n",
            " 8   JP_Sales      16598 non-null  float64\n",
            " 9   Other_Sales   16598 non-null  float64\n",
            " 10  Global_Sales  16598 non-null  float64\n",
            "dtypes: float64(6), int64(1), object(4)\n",
            "memory usage: 1.4+ MB\n"
          ],
          "name": "stdout"
        }
      ]
    },
    {
      "cell_type": "code",
      "metadata": {
        "id": "z1tzqR_x2VMq"
      },
      "source": [
        "#Our goal is to confirm whether or not north american markets have influence on the other two major foriegn markets. \n",
        "#What are our hypotheses going in?\n",
        "#H1: There is a positive correlation between north american sales and european sales.\n",
        "#H2: There is a positive correlation between north american sales and japanese sales."
      ],
      "execution_count": null,
      "outputs": []
    },
    {
      "cell_type": "code",
      "metadata": {
        "colab": {
          "base_uri": "https://localhost:8080/"
        },
        "id": "sVJALCp15Q1_",
        "outputId": "3e8052c0-da8d-4108-8a2d-da3132472b45"
      },
      "source": [
        "#Lets first filter out nulls\n",
        "df_filtered = df.dropna()\n",
        "df_filtered.info()"
      ],
      "execution_count": null,
      "outputs": [
        {
          "output_type": "stream",
          "text": [
            "<class 'pandas.core.frame.DataFrame'>\n",
            "Int64Index: 16291 entries, 0 to 16597\n",
            "Data columns (total 11 columns):\n",
            " #   Column        Non-Null Count  Dtype  \n",
            "---  ------        --------------  -----  \n",
            " 0   Rank          16291 non-null  int64  \n",
            " 1   Name          16291 non-null  object \n",
            " 2   Platform      16291 non-null  object \n",
            " 3   Year          16291 non-null  float64\n",
            " 4   Genre         16291 non-null  object \n",
            " 5   Publisher     16291 non-null  object \n",
            " 6   NA_Sales      16291 non-null  float64\n",
            " 7   EU_Sales      16291 non-null  float64\n",
            " 8   JP_Sales      16291 non-null  float64\n",
            " 9   Other_Sales   16291 non-null  float64\n",
            " 10  Global_Sales  16291 non-null  float64\n",
            "dtypes: float64(6), int64(1), object(4)\n",
            "memory usage: 1.5+ MB\n"
          ],
          "name": "stdout"
        }
      ]
    },
    {
      "cell_type": "code",
      "metadata": {
        "colab": {
          "base_uri": "https://localhost:8080/",
          "height": 137
        },
        "id": "CpKsQzgm7B0J",
        "outputId": "c5ecdedd-81d4-43fd-e255-1ce98b56721f"
      },
      "source": [
        "#Let's check for some correlations \n",
        "df_filtered[['NA_Sales', 'EU_Sales', 'JP_Sales']].corr()\n"
      ],
      "execution_count": null,
      "outputs": [
        {
          "output_type": "execute_result",
          "data": {
            "text/html": [
              "<div>\n",
              "<style scoped>\n",
              "    .dataframe tbody tr th:only-of-type {\n",
              "        vertical-align: middle;\n",
              "    }\n",
              "\n",
              "    .dataframe tbody tr th {\n",
              "        vertical-align: top;\n",
              "    }\n",
              "\n",
              "    .dataframe thead th {\n",
              "        text-align: right;\n",
              "    }\n",
              "</style>\n",
              "<table border=\"1\" class=\"dataframe\">\n",
              "  <thead>\n",
              "    <tr style=\"text-align: right;\">\n",
              "      <th></th>\n",
              "      <th>NA_Sales</th>\n",
              "      <th>EU_Sales</th>\n",
              "      <th>JP_Sales</th>\n",
              "    </tr>\n",
              "  </thead>\n",
              "  <tbody>\n",
              "    <tr>\n",
              "      <th>NA_Sales</th>\n",
              "      <td>1.000000</td>\n",
              "      <td>0.768923</td>\n",
              "      <td>0.451283</td>\n",
              "    </tr>\n",
              "    <tr>\n",
              "      <th>EU_Sales</th>\n",
              "      <td>0.768923</td>\n",
              "      <td>1.000000</td>\n",
              "      <td>0.436379</td>\n",
              "    </tr>\n",
              "    <tr>\n",
              "      <th>JP_Sales</th>\n",
              "      <td>0.451283</td>\n",
              "      <td>0.436379</td>\n",
              "      <td>1.000000</td>\n",
              "    </tr>\n",
              "  </tbody>\n",
              "</table>\n",
              "</div>"
            ],
            "text/plain": [
              "          NA_Sales  EU_Sales  JP_Sales\n",
              "NA_Sales  1.000000  0.768923  0.451283\n",
              "EU_Sales  0.768923  1.000000  0.436379\n",
              "JP_Sales  0.451283  0.436379  1.000000"
            ]
          },
          "metadata": {
            "tags": []
          },
          "execution_count": 10
        }
      ]
    },
    {
      "cell_type": "code",
      "metadata": {
        "id": "hNYF3rEh9vYq"
      },
      "source": [
        "# We can confirm correlation with these numbers.\n",
        "# NAtoEU correlation is at 0.768923\n",
        "# NAtoJP correlation is at 0.451283\n",
        "# Seems to indicate a stronger influence on european markets, than japanese markets."
      ],
      "execution_count": null,
      "outputs": []
    },
    {
      "cell_type": "code",
      "metadata": {
        "colab": {
          "base_uri": "https://localhost:8080/"
        },
        "id": "ijBOW0mK_Q-F",
        "outputId": "e4ea3d86-dfa1-4db6-eeb2-45a4c8db3b3a"
      },
      "source": [
        "# Lets first dive into NA to EU correlations.\n",
        "stats.pearsonr(df_filtered['NA_Sales'], df_filtered['EU_Sales'])"
      ],
      "execution_count": null,
      "outputs": [
        {
          "output_type": "execute_result",
          "data": {
            "text/plain": [
              "(0.7689229927565607, 0.0)"
            ]
          },
          "metadata": {
            "tags": []
          },
          "execution_count": 12
        }
      ]
    },
    {
      "cell_type": "code",
      "metadata": {
        "colab": {
          "base_uri": "https://localhost:8080/",
          "height": 318
        },
        "id": "awUnEkSwAGG3",
        "outputId": "07363883-3a05-4b38-95b5-8ed4c9c12d14"
      },
      "source": [
        "#With p-value as <0.05 we can expect a significant correlation between these two variables.\n",
        "#Lets visualize it.\n",
        "sns.set_style(\"white\")\n",
        "sns.scatterplot(x=\"NA_Sales\", y=\"EU_Sales\", data=df_filtered)\n",
        "plt.xlabel('North American Sales')\n",
        "plt.ylabel('European Sales')\n",
        "plt.title('NA Sales Vs. EU Sales')"
      ],
      "execution_count": null,
      "outputs": [
        {
          "output_type": "execute_result",
          "data": {
            "text/plain": [
              "Text(0.5, 1.0, 'NA Sales Vs. EU Sales')"
            ]
          },
          "metadata": {
            "tags": []
          },
          "execution_count": 13
        },
        {
          "output_type": "display_data",
          "data": {
            "image/png": "[encoded data removed]",
            "text/plain": [
              "<Figure size 432x288 with 1 Axes>"
            ]
          },
          "metadata": {
            "tags": []
          }
        }
      ]
    },
    {
      "cell_type": "code",
      "metadata": {
        "colab": {
          "base_uri": "https://localhost:8080/"
        },
        "id": "bmTM_o_KBBm0",
        "outputId": "42953a23-d21c-4bdf-c4f0-7782ebb9f845"
      },
      "source": [
        "# Now lets dive into NA and JP correlations.\n",
        "stats.pearsonr(df_filtered['NA_Sales'], df_filtered['JP_Sales'])"
      ],
      "execution_count": null,
      "outputs": [
        {
          "output_type": "execute_result",
          "data": {
            "text/plain": [
              "(0.451283498557966, 0.0)"
            ]
          },
          "metadata": {
            "tags": []
          },
          "execution_count": 14
        }
      ]
    },
    {
      "cell_type": "code",
      "metadata": {
        "colab": {
          "base_uri": "https://localhost:8080/",
          "height": 318
        },
        "id": "fZdA8hbbBO1O",
        "outputId": "4bc6daff-d4d7-4983-b2ef-25a58d346cad"
      },
      "source": [
        "#With p-value as <0.05 we can expect a significant correlation between these two variables.\n",
        "#Lets visualize it.\n",
        "sns.set_style(\"white\")\n",
        "sns.scatterplot(x=\"NA_Sales\", y=\"JP_Sales\", data=df_filtered)\n",
        "plt.xlabel('North American Sales')\n",
        "plt.ylabel('Japanese Sales')\n",
        "plt.title('NA Sales Vs. JP Sales')"
      ],
      "execution_count": null,
      "outputs": [
        {
          "output_type": "execute_result",
          "data": {
            "text/plain": [
              "Text(0.5, 1.0, 'NA Sales Vs. JP Sales')"
            ]
          },
          "metadata": {
            "tags": []
          },
          "execution_count": 15
        },
        {
          "output_type": "display_data",
          "data": {
            "image/png": "[encoded data removed]",
            "text/plain": [
              "<Figure size 432x288 with 1 Axes>"
            ]
          },
          "metadata": {
            "tags": []
          }
        }
      ]
    },
    {
      "cell_type": "markdown",
      "metadata": {
        "id": "PeNAJ3R7DRwC"
      },
      "source": [
        "With the information provided from the Pearson R tests and Scatter plots, We can confirm a strong positive correlation between North American Sales and European Sales, as well as a moderate positive correlation between North American sales and Japanese Sales.\n",
        "\n",
        "\n",
        "Now lets look into publishers."
      ]
    },
    {
      "cell_type": "code",
      "metadata": {
        "colab": {
          "base_uri": "https://localhost:8080/"
        },
        "id": "yI5-pfLl8fYu",
        "outputId": "deda8602-2b70-4d9e-d31e-27c257a4ed62"
      },
      "source": [
        "#Let's select video games from 2015 and onward.\n",
        "recentyears = df_filtered['Year'] > 2014\n",
        "recentyears.head(10)"
      ],
      "execution_count": null,
      "outputs": [
        {
          "output_type": "execute_result",
          "data": {
            "text/plain": [
              "0    True\n",
              "1    True\n",
              "2    True\n",
              "3    True\n",
              "4    True\n",
              "5    True\n",
              "6    True\n",
              "7    True\n",
              "8    True\n",
              "9    True\n",
              "Name: Year, dtype: bool"
            ]
          },
          "metadata": {
            "tags": []
          },
          "execution_count": 30
        }
      ]
    },
    {
      "cell_type": "code",
      "metadata": {
        "colab": {
          "base_uri": "https://localhost:8080/",
          "height": 197
        },
        "id": "kRSaMoFM-2NZ",
        "outputId": "ed37a911-cb17-46d3-d903-a324b828e3f1"
      },
      "source": [
        "recentyears_df = df_filtered.iloc[recentyears.values]\n",
        "recentyears_df.head()"
      ],
      "execution_count": null,
      "outputs": [
        {
          "output_type": "execute_result",
          "data": {
            "text/html": [
              "<div>\n",
              "<style scoped>\n",
              "    .dataframe tbody tr th:only-of-type {\n",
              "        vertical-align: middle;\n",
              "    }\n",
              "\n",
              "    .dataframe tbody tr th {\n",
              "        vertical-align: top;\n",
              "    }\n",
              "\n",
              "    .dataframe thead th {\n",
              "        text-align: right;\n",
              "    }\n",
              "</style>\n",
              "<table border=\"1\" class=\"dataframe\">\n",
              "  <thead>\n",
              "    <tr style=\"text-align: right;\">\n",
              "      <th></th>\n",
              "      <th>Rank</th>\n",
              "      <th>Name</th>\n",
              "      <th>Platform</th>\n",
              "      <th>Year</th>\n",
              "      <th>Genre</th>\n",
              "      <th>Publisher</th>\n",
              "      <th>NA_Sales</th>\n",
              "      <th>EU_Sales</th>\n",
              "      <th>JP_Sales</th>\n",
              "      <th>Other_Sales</th>\n",
              "      <th>Global_Sales</th>\n",
              "    </tr>\n",
              "  </thead>\n",
              "  <tbody>\n",
              "    <tr>\n",
              "      <th>0</th>\n",
              "      <td>5959</td>\n",
              "      <td>Imagine: Makeup Artist</td>\n",
              "      <td>DS</td>\n",
              "      <td>2020.0</td>\n",
              "      <td>Simulation</td>\n",
              "      <td>Ubisoft</td>\n",
              "      <td>0.27</td>\n",
              "      <td>0.00</td>\n",
              "      <td>0.00</td>\n",
              "      <td>0.02</td>\n",
              "      <td>0.29</td>\n",
              "    </tr>\n",
              "    <tr>\n",
              "      <th>1</th>\n",
              "      <td>14393</td>\n",
              "      <td>Phantasy Star Online 2 Episode 4: Deluxe Package</td>\n",
              "      <td>PS4</td>\n",
              "      <td>2017.0</td>\n",
              "      <td>Role-Playing</td>\n",
              "      <td>Sega</td>\n",
              "      <td>0.00</td>\n",
              "      <td>0.00</td>\n",
              "      <td>0.03</td>\n",
              "      <td>0.00</td>\n",
              "      <td>0.03</td>\n",
              "    </tr>\n",
              "    <tr>\n",
              "      <th>2</th>\n",
              "      <td>16244</td>\n",
              "      <td>Phantasy Star Online 2 Episode 4: Deluxe Package</td>\n",
              "      <td>PSV</td>\n",
              "      <td>2017.0</td>\n",
              "      <td>Role-Playing</td>\n",
              "      <td>Sega</td>\n",
              "      <td>0.00</td>\n",
              "      <td>0.00</td>\n",
              "      <td>0.01</td>\n",
              "      <td>0.00</td>\n",
              "      <td>0.01</td>\n",
              "    </tr>\n",
              "    <tr>\n",
              "      <th>3</th>\n",
              "      <td>16441</td>\n",
              "      <td>Brothers Conflict: Precious Baby</td>\n",
              "      <td>PSV</td>\n",
              "      <td>2017.0</td>\n",
              "      <td>Action</td>\n",
              "      <td>Idea Factory</td>\n",
              "      <td>0.00</td>\n",
              "      <td>0.00</td>\n",
              "      <td>0.01</td>\n",
              "      <td>0.00</td>\n",
              "      <td>0.01</td>\n",
              "    </tr>\n",
              "    <tr>\n",
              "      <th>4</th>\n",
              "      <td>222</td>\n",
              "      <td>FIFA 17</td>\n",
              "      <td>PS4</td>\n",
              "      <td>2016.0</td>\n",
              "      <td>Sports</td>\n",
              "      <td>Electronic Arts</td>\n",
              "      <td>0.28</td>\n",
              "      <td>3.75</td>\n",
              "      <td>0.06</td>\n",
              "      <td>0.69</td>\n",
              "      <td>4.77</td>\n",
              "    </tr>\n",
              "  </tbody>\n",
              "</table>\n",
              "</div>"
            ],
            "text/plain": [
              "    Rank  ... Global_Sales\n",
              "0   5959  ...         0.29\n",
              "1  14393  ...         0.03\n",
              "2  16244  ...         0.01\n",
              "3  16441  ...         0.01\n",
              "4    222  ...         4.77\n",
              "\n",
              "[5 rows x 11 columns]"
            ]
          },
          "metadata": {
            "tags": []
          },
          "execution_count": 31
        }
      ]
    },
    {
      "cell_type": "code",
      "metadata": {
        "colab": {
          "base_uri": "https://localhost:8080/"
        },
        "id": "mb3sLOJt_FrY",
        "outputId": "c45d9d41-75ce-4776-aeb5-a7338660b6a0"
      },
      "source": [
        " #Run some general info for the recentyears_df\n",
        " recentyears_df.info()"
      ],
      "execution_count": null,
      "outputs": [
        {
          "output_type": "stream",
          "text": [
            "<class 'pandas.core.frame.DataFrame'>\n",
            "Int64Index: 960 entries, 0 to 971\n",
            "Data columns (total 11 columns):\n",
            " #   Column        Non-Null Count  Dtype  \n",
            "---  ------        --------------  -----  \n",
            " 0   Rank          960 non-null    int64  \n",
            " 1   Name          960 non-null    object \n",
            " 2   Platform      960 non-null    object \n",
            " 3   Year          960 non-null    float64\n",
            " 4   Genre         960 non-null    object \n",
            " 5   Publisher     960 non-null    object \n",
            " 6   NA_Sales      960 non-null    float64\n",
            " 7   EU_Sales      960 non-null    float64\n",
            " 8   JP_Sales      960 non-null    float64\n",
            " 9   Other_Sales   960 non-null    float64\n",
            " 10  Global_Sales  960 non-null    float64\n",
            "dtypes: float64(6), int64(1), object(4)\n",
            "memory usage: 90.0+ KB\n"
          ],
          "name": "stdout"
        }
      ]
    },
    {
      "cell_type": "code",
      "metadata": {
        "colab": {
          "base_uri": "https://localhost:8080/"
        },
        "id": "ag4LMi6p_y_-",
        "outputId": "7238abdd-9af8-45aa-fa7c-efd42dea3ad2"
      },
      "source": [
        "#Lets get a list of each publisher\n",
        "print(recentyears_df.Publisher.unique())"
      ],
      "execution_count": null,
      "outputs": [
        {
          "output_type": "stream",
          "text": [
            "['Ubisoft' 'Sega' 'Idea Factory' 'Electronic Arts'\n",
            " 'Sony Computer Entertainment' 'Activision' 'Hello Games'\n",
            " 'Namco Bandai Games' 'Bethesda Softworks' 'Level 5'\n",
            " 'Take-Two Interactive' 'Nintendo' 'Capcom'\n",
            " 'Warner Bros. Interactive Entertainment' 'Square Enix'\n",
            " 'Microsoft Game Studios' 'Atlus' 'Codemasters' 'Deep Silver'\n",
            " 'Konami Digital Entertainment' '505 Games' 'Tecmo Koei' 'GungHo'\n",
            " 'Marvelous Interactive' 'Kadokawa Games' 'Nippon Ichi Software'\n",
            " 'Telltale Games' 'Unknown' 'Nihon Falcom Corporation' 'Milestone S.r.l.'\n",
            " 'PQube' 'Insomniac Games' 'Aksys Games' 'Nippon Columbia' 'Broccoli'\n",
            " 'Aqua Plus' 'FuRyu' 'Focus Home Interactive' 'Alternative Software'\n",
            " 'Milestone S.r.l' 'MLB.com' 'D3Publisher' 'Happinet'\n",
            " 'Dusenberry Martin Racing' 'Paradox Interactive' 'Rocket Company'\n",
            " 'Astragon' 'Screenlife' 'Introversion Software' 'Compile Heart' '5pb'\n",
            " 'Avanquest' 'Atari' 'Microids' 'Koch Media' 'Rising Star Games'\n",
            " 'dramatic create' 'Yeti' 'Sold Out' 'Marvelous Entertainment'\n",
            " 'Nordic Games' 'Stainless Games' 'Experience Inc.' 'Epic Games'\n",
            " 'Prototype' 'Paradox Development' 'Inti Creates' 'UIG Entertainment'\n",
            " 'Sony Computer Entertainment Europe' 'Slightly Mad Studios' 'Mojang'\n",
            " 'mixi, Inc' 'Disney Interactive Studios' 'Harmonix Music Systems'\n",
            " 'Kalypso Media' 'Rebellion Developments' 'Yacht Club Games'\n",
            " 'Bigben Interactive' 'Tru Blu Entertainment' 'Idea Factory International'\n",
            " 'Takara Tomy' 'Little Orbit' 'inXile Entertainment' 'Kadokawa Shoten'\n",
            " 'Revolution Software' 'Kaga Create' 'WayForward Technologies'\n",
            " 'Xseed Games' 'Marvel Entertainment' 'Alchemist' 'Shogakukan' 'Cygames'\n",
            " 'TGL' 'Extreme Entertainment Group' 'Intergrow' 'Rondomedia'\n",
            " 'Arc System Works' 'FuRyu Corporation' 'Avanquest Software'\n",
            " 'Marvelous Games' 'Focus Multimedia' 'Devolver Digital' 'Asgard' 'HuneX'\n",
            " 'TopWare Interactive' 'Alawar Entertainment' 'Minato Station' 'Nitroplus'\n",
            " 'Funbox Media' 'Rain Games']\n"
          ],
          "name": "stdout"
        }
      ]
    },
    {
      "cell_type": "code",
      "metadata": {
        "colab": {
          "base_uri": "https://localhost:8080/"
        },
        "id": "lOQh7sqUB5xu",
        "outputId": "e57ed50e-7e66-43f9-995f-a2890f76bce0"
      },
      "source": [
        "#How many total publishers made the list for this selection of time.\n",
        "recentyears_df.Publisher.nunique()"
      ],
      "execution_count": null,
      "outputs": [
        {
          "output_type": "execute_result",
          "data": {
            "text/plain": [
              "110"
            ]
          },
          "metadata": {
            "tags": []
          },
          "execution_count": 23
        }
      ]
    },
    {
      "cell_type": "code",
      "metadata": {
        "colab": {
          "base_uri": "https://localhost:8080/"
        },
        "id": "Z3M2T9DhGdi9",
        "outputId": "1e6fce54-9628-4667-dd5d-e01c6ca13e8c"
      },
      "source": [
        "#Identify the top selling publishers for NA market for this time period\n",
        "print(recentyears_df.pivot_table(columns='Year',\n",
        "               index='Publisher',\n",
        "               values='NA_Sales',\n",
        "               aggfunc=sum,\n",
        "               margins=True).\\\n",
        "    sort_values(by='All', ascending=False).head(10))"
      ],
      "execution_count": null,
      "outputs": [
        {
          "output_type": "stream",
          "text": [
            "Year                                    2015.0  2016.0  2017.0  2020.0     All\n",
            "Publisher                                                                     \n",
            "All                                     102.82   22.66     0.0    0.27  125.75\n",
            "Electronic Arts                          17.62    3.64     NaN     NaN   21.26\n",
            "Activision                               16.95    1.67     NaN     NaN   18.62\n",
            "Warner Bros. Interactive Entertainment   10.02    1.37     NaN     NaN   11.39\n",
            "Take-Two Interactive                      8.58    1.83     NaN     NaN   10.41\n",
            "Nintendo                                  9.25    1.16     NaN     NaN   10.41\n",
            "Ubisoft                                   4.89    3.85     NaN    0.27    9.01\n",
            "Bethesda Softworks                        7.20    0.94     NaN     NaN    8.14\n",
            "Sony Computer Entertainment               4.91    2.43     NaN     NaN    7.34\n",
            "Microsoft Game Studios                    6.32    0.66     NaN     NaN    6.98\n"
          ],
          "name": "stdout"
        }
      ]
    },
    {
      "cell_type": "code",
      "metadata": {
        "colab": {
          "base_uri": "https://localhost:8080/"
        },
        "id": "UrQ38OZvgE0O",
        "outputId": "a72032bf-c0d6-4225-aaef-a78affc3816e"
      },
      "source": [
        "#Identify the top selling publishers for EU market for this time period\n",
        "print(recentyears_df.pivot_table(columns='Year',\n",
        "               index='Publisher',\n",
        "               values='EU_Sales',\n",
        "               aggfunc=sum,\n",
        "               margins=True).\\\n",
        "    sort_values(by='All', ascending=False).head(10))"
      ],
      "execution_count": null,
      "outputs": [
        {
          "output_type": "stream",
          "text": [
            "Year                                    2015.0  2016.0  2017.0  2020.0     All\n",
            "Publisher                                                                     \n",
            "All                                      97.71   26.76     0.0     0.0  124.47\n",
            "Electronic Arts                          21.14    6.91     NaN     NaN   28.05\n",
            "Activision                               13.41    1.39     NaN     NaN   14.80\n",
            "Ubisoft                                   6.16    4.38     NaN     0.0   10.54\n",
            "Warner Bros. Interactive Entertainment    8.45    1.68     NaN     NaN   10.13\n",
            "Nintendo                                  7.49    0.93     NaN     NaN    8.42\n",
            "Bethesda Softworks                        6.84    0.99     NaN     NaN    7.83\n",
            "Namco Bandai Games                        5.42    1.58     NaN     NaN    7.00\n",
            "Sony Computer Entertainment               3.84    2.87     NaN     NaN    6.71\n",
            "Take-Two Interactive                      4.26    0.62     NaN     NaN    4.88\n"
          ],
          "name": "stdout"
        }
      ]
    },
    {
      "cell_type": "code",
      "metadata": {
        "colab": {
          "base_uri": "https://localhost:8080/"
        },
        "id": "6D86dIA6gKav",
        "outputId": "5da8b025-cd94-4c36-c0fe-dba71a6f41b3"
      },
      "source": [
        "#Identify the top selling publishers for JP market for this time period\n",
        "print(recentyears_df.pivot_table(columns='Year',\n",
        "               index='Publisher',\n",
        "               values='JP_Sales',\n",
        "               aggfunc=sum,\n",
        "               margins=True).\\\n",
        "    sort_values(by='All', ascending=False).head(10))"
      ],
      "execution_count": null,
      "outputs": [
        {
          "output_type": "stream",
          "text": [
            "Year                          2015.0  2016.0  2017.0  2020.0    All\n",
            "Publisher                                                          \n",
            "All                            33.72   13.67    0.05     0.0  47.44\n",
            "Nintendo                        8.57    1.17     NaN     NaN   9.74\n",
            "Namco Bandai Games              5.03    2.34     NaN     NaN   7.37\n",
            "Square Enix                     2.25    2.23     NaN     NaN   4.48\n",
            "Capcom                          3.76    0.53     NaN     NaN   4.29\n",
            "Level 5                         2.31    1.82     NaN     NaN   4.13\n",
            "Tecmo Koei                      1.37    0.78     NaN     NaN   2.15\n",
            "Konami Digital Entertainment    1.27    0.63     NaN     NaN   1.90\n",
            "Sega                            0.76    0.45    0.04     NaN   1.25\n",
            "mixi, Inc                       0.86     NaN     NaN     NaN   0.86\n"
          ],
          "name": "stdout"
        }
      ]
    },
    {
      "cell_type": "code",
      "metadata": {
        "colab": {
          "base_uri": "https://localhost:8080/"
        },
        "id": "-YHq249033QK",
        "outputId": "5fb67c59-93e6-47f1-eeae-4e14f1e92961"
      },
      "source": [
        "#Identify the top selling publishers for global market for this time period\n",
        "print(recentyears_df.pivot_table(columns='Year',\n",
        "               index='Publisher',\n",
        "               values='Global_Sales',\n",
        "               aggfunc=sum,\n",
        "               margins=True).\\\n",
        "    sort_values(by='All', ascending=False).head(10))"
      ],
      "execution_count": null,
      "outputs": [
        {
          "output_type": "stream",
          "text": [
            "Year                                    2015.0  2016.0  2017.0  2020.0     All\n",
            "Publisher                                                                     \n",
            "All                                     264.44   70.90    0.05    0.29  335.68\n",
            "Electronic Arts                          45.42   12.25     NaN     NaN   57.67\n",
            "Activision                               35.63    3.67     NaN     NaN   39.30\n",
            "Nintendo                                 27.08    3.47     NaN     NaN   30.55\n",
            "Warner Bros. Interactive Entertainment   21.74    3.52     NaN     NaN   25.26\n",
            "Ubisoft                                  12.79    9.76     NaN    0.29   22.84\n",
            "Namco Bandai Games                       15.56    6.49     NaN     NaN   22.05\n",
            "Bethesda Softworks                       16.44    2.25     NaN     NaN   18.69\n",
            "Take-Two Interactive                     15.03    2.89     NaN     NaN   17.92\n",
            "Sony Computer Entertainment              11.01    6.56     NaN     NaN   17.57\n"
          ],
          "name": "stdout"
        }
      ]
    },
    {
      "cell_type": "code",
      "metadata": {
        "id": "P2nuowQugg15"
      },
      "source": [
        "#From these lists, we can confirm publishers like \"Electronic Arts\", \"Activision\", and \"Warner Bros. Interactive Entertainment\" are both prominent in the NA and EU Markets.\n",
        "#However in the JP markets \"Namco Bandai Games\", \"Square Enix\", and \"Capcom\" seem to have more of a presence.\n",
        "#The JP market is approximately 14% of the global market, while the NA and EU markets are 37% of the market each. (Almost 75% of the market is just NA and EU alone.)"
      ],
      "execution_count": null,
      "outputs": []
    },
    {
      "cell_type": "markdown",
      "metadata": {
        "id": "t-qnWAqiCtMk"
      },
      "source": [
        "Based off this analysis, my final recommendation is to focus on the NA and EU markets for new contracts, ideally working with Electronic Arts, Activision, and Warner Bros. Interactive Entertainment. \n",
        "\n",
        "We can confirm a strong positive correlation between North American Sales and European Sales, and this is likely due to cultural similarities. You can run similar marketing campaigns, and both markets are predominantly english speaking.\n",
        "\n",
        "Nintendo, which isn't an independent contracting gaming company, is only producing games for their own platform. They currently dominate the JP market, possibly making it more difficult to break into the JP market.\n",
        "\n",
        "With the NA and EU markets having such a strong correlation, and both being much larger than the JP market, there is higher potential for overall sales by trying to appeal to these markets.\n"
      ]
    }
  ]
}